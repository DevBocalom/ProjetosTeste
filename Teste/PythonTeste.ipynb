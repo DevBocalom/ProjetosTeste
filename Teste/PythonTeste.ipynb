{
 "cells": [
  {
   "cell_type": "markdown",
   "metadata": {},
   "source": [
    "1) Observe o trecho de código abaixo: int INDICE = 13, SOMA = 0, K = 0;\n",
    "Enquanto K < INDICE faça { K = K + 1; SOMA = SOMA + K; }\n",
    "Imprimir(SOMA);\n",
    "Ao final do processamento, qual será o valor da variável SOMA?"
   ]
  },
  {
   "cell_type": "code",
   "execution_count": 17,
   "metadata": {},
   "outputs": [
    {
     "name": "stdout",
     "output_type": "stream",
     "text": [
      "O valor final de soma é 91\n"
     ]
    }
   ],
   "source": [
    "indice = 13\n",
    "soma = 0\n",
    "k = 0\n",
    "while k<indice:\n",
    "    k = k+1\n",
    "    soma = soma+k\n",
    "print(f\"O valor final de soma é {soma}\")"
   ]
  },
  {
   "cell_type": "markdown",
   "metadata": {},
   "source": [
    "2) Dado a sequência de Fibonacci, onde se inicia por 0 e 1 e o próximo valor sempre será a soma dos 2 valores anteriores (exemplo: 0, 1, 1, 2, 3, 5, 8, 13, 21, 34...), escreva um programa na linguagem que desejar onde, informado um número, ele calcule a sequência de Fibonacci e retorne uma mensagem avisando se o número informado pertence ou não a sequência.\n",
    "\n",
    "IMPORTANTE: Esse número pode ser informado através de qualquer entrada de sua preferência ou pode ser previamente definido no código;\n"
   ]
  },
  {
   "cell_type": "code",
   "execution_count": 18,
   "metadata": {},
   "outputs": [
    {
     "name": "stdout",
     "output_type": "stream",
     "text": [
      "O número 13 pertence à sequência de Fibonacci.\n"
     ]
    }
   ],
   "source": [
    "def fibonacci(n):\n",
    "    a, b = 0, 1\n",
    "    while b < n:\n",
    "        a, b = b, a + b\n",
    "    return b == n or n == 0\n",
    "\n",
    "num = int(input(\"Digite um número: \"))\n",
    "\n",
    "if fibonacci(num):\n",
    "    print(f\"O número {num} pertence à sequência de Fibonacci.\")\n",
    "else:\n",
    "    print(f\"O número {num} não pertence à sequência de Fibonacci.\")\n"
   ]
  },
  {
   "cell_type": "markdown",
   "metadata": {},
   "source": [
    "3) Dado um vetor que guarda o valor de faturamento diário de uma distribuidora, faça um programa, na linguagem que desejar, que calcule e retorne:\n",
    "• O menor valor de faturamento ocorrido em um dia do mês;\n",
    "• O maior valor de faturamento ocorrido em um dia do mês;\n",
    "• Número de dias no mês em que o valor de faturamento diário foi superior à média mensal.\n",
    "\n",
    "IMPORTANTE:\n",
    "\n",
    "a) Usar o json ou xml disponível como fonte dos dados do faturamento mensal;\n",
    "\n",
    "b) Podem existir dias sem faturamento, como nos finais de semana e feriados. Estes dias devem ser ignorados no cálculo da média;"
   ]
  },
  {
   "cell_type": "code",
   "execution_count": 7,
   "metadata": {},
   "outputs": [
    {
     "name": "stdout",
     "output_type": "stream",
     "text": [
      "Resultados:\n",
      "Menor faturamento: 3071.3283\n",
      "Maior faturamento: 48275.2994\n",
      "Dias com faturamento acima da média: 11\n"
     ]
    }
   ],
   "source": [
    "import json\n",
    "import xml.etree.ElementTree as ET\n",
    "\n",
    "# Carregar os dados do faturamento a partir de um arquivo JSON ou XML\n",
    "def carregar_dados(arquivo):\n",
    "    if arquivo.endswith(\".json\"):\n",
    "        with open(arquivo, 'r') as file:\n",
    "            return json.load(file)\n",
    "    elif arquivo.endswith(\".xml\"):\n",
    "        try:\n",
    "            tree = ET.parse(arquivo)\n",
    "            root = tree.getroot()\n",
    "\n",
    "            dados = []\n",
    "            for row in root.findall(\"row\"):  # Ajustado para buscar <row>\n",
    "                valor_elemento = row.find(\"valor\")\n",
    "                if valor_elemento is not None and valor_elemento.text.strip():\n",
    "                    try:\n",
    "                        valor = float(valor_elemento.text)\n",
    "                        dados.append({\"valor\": valor})\n",
    "                    except ValueError:\n",
    "                        print(f\"Erro ao converter valor: {valor_elemento.text}. Ignorado.\")\n",
    "            \n",
    "            return dados\n",
    "        except ET.ParseError:\n",
    "            raise ValueError(\"Erro ao processar o arquivo XML. Verifique a estrutura do arquivo.\")\n",
    "    else:\n",
    "        raise ValueError(\"Formato de arquivo não suportado. Use JSON ou XML.\")\n",
    "\n",
    "# Processar os dados do faturamento\n",
    "def analisar_faturamento(dados):\n",
    "    valores = [dia[\"valor\"] for dia in dados if dia[\"valor\"] > 0]  # Ignorar dias sem faturamento\n",
    "    \n",
    "    if not valores:\n",
    "        return {\"erro\": \"Não há dados de faturamento válidos.\"}\n",
    "    \n",
    "    menor_faturamento = min(valores)\n",
    "    maior_faturamento = max(valores)\n",
    "    media_mensal = sum(valores) / len(valores)\n",
    "    dias_acima_media = sum(1 for v in valores if v > media_mensal)\n",
    "    \n",
    "    return {\n",
    "        \"menor_faturamento\": menor_faturamento,\n",
    "        \"maior_faturamento\": maior_faturamento,\n",
    "        \"dias_acima_media\": dias_acima_media\n",
    "    }\n",
    "\n",
    "# Executar o programa\n",
    "if __name__ == \"__main__\":\n",
    "    arquivo = input(\"Digite o nome do arquivo (JSON ou XML): \")  # Nome do arquivo com os dados\n",
    "    try:\n",
    "        dados = carregar_dados(arquivo)\n",
    "        resultado = analisar_faturamento(dados)\n",
    "        \n",
    "        if \"erro\" in resultado:\n",
    "            print(f\"Erro: {resultado['erro']}\")\n",
    "        else:\n",
    "            print(\"Resultados:\")\n",
    "            print(f\"Menor faturamento: {resultado['menor_faturamento']}\")\n",
    "            print(f\"Maior faturamento: {resultado['maior_faturamento']}\")\n",
    "            print(f\"Dias com faturamento acima da média: {resultado['dias_acima_media']}\")\n",
    "    except Exception as e:\n",
    "        print(f\"Erro: {e}\")\n"
   ]
  },
  {
   "cell_type": "markdown",
   "metadata": {},
   "source": [
    "4) Dado o valor de faturamento mensal de uma distribuidora, detalhado por estado:\n",
    "\n",
    "• SP – R$67.836,43\n",
    "\n",
    "• RJ – R$36.678,66\n",
    "\n",
    "• MG – R$29.229,88\n",
    "\n",
    "• ES – R$27.165,48\n",
    "\n",
    "• Outros – R$19.849,53\n",
    "\n",
    "Escreva um programa na linguagem que desejar onde calcule o percentual de representação que cada estado teve dentro do valor total mensal da distribuidora.  "
   ]
  },
  {
   "cell_type": "code",
   "execution_count": 19,
   "metadata": {},
   "outputs": [
    {
     "name": "stdout",
     "output_type": "stream",
     "text": [
      "O percentual de SP é de 37.53%\n",
      "O percentual de RJ é de 20.29%\n",
      "O percentual de MG é de 16.17%\n",
      "O percentual de ES é de 15.03%\n",
      "O percentual de Outros é de 10.98%\n"
     ]
    }
   ],
   "source": [
    "sp = 67836.43\n",
    "rj = 36678.66\n",
    "mg = 29229.88\n",
    "es = 27165.48\n",
    "outros = 19849.53\n",
    "\n",
    "total = sp + rj + mg + es + outros\n",
    "\n",
    "print(\"O percentual de RJ é de {:.2f}%\".format((rj / total) * 100))\n",
    "print(\"O percentual de SP é de {:.2f}%\".format((sp / total) * 100))\n",
    "print(\"O percentual de MG é de {:.2f}%\".format((mg / total) * 100))\n",
    "print(\"O percentual de ES é de {:.2f}%\".format((es / total) * 100))\n",
    "print(\"O percentual de Outros é de {:.2f}%\".format((outros / total) * 100))\n"
   ]
  },
  {
   "cell_type": "markdown",
   "metadata": {},
   "source": [
    "5) Escreva um programa que inverta os caracteres de um string.\n",
    "\n",
    "IMPORTANTE:\n",
    "\n",
    "a) Essa string pode ser informada através de qualquer entrada de sua preferência ou pode ser previamente definida no código;\n",
    "\n",
    "b) Evite usar funções prontas, como, por exemplo, reverse;"
   ]
  },
  {
   "cell_type": "code",
   "execution_count": 20,
   "metadata": {},
   "outputs": [
    {
     "name": "stdout",
     "output_type": "stream",
     "text": [
      "Texto invertida: odranoeL ésoJ\n"
     ]
    }
   ],
   "source": [
    "string = input(\"Digite um tesxto para ser invertido: \")\n",
    "\n",
    "invertida = \"\"\n",
    "\n",
    "for i in range(len(string)-1, -1, -1):\n",
    "    invertida += string[i]\n",
    "\n",
    "print(\"Texto invertida:\", invertida)"
   ]
  }
 ],
 "metadata": {
  "kernelspec": {
   "display_name": "Python 3",
   "language": "python",
   "name": "python3"
  },
  "language_info": {
   "codemirror_mode": {
    "name": "ipython",
    "version": 3
   },
   "file_extension": ".py",
   "mimetype": "text/x-python",
   "name": "python",
   "nbconvert_exporter": "python",
   "pygments_lexer": "ipython3",
   "version": "3.13.1"
  }
 },
 "nbformat": 4,
 "nbformat_minor": 2
}
